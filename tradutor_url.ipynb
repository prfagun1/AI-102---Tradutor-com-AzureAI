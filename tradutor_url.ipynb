{
 "cells": [
  {
   "cell_type": "code",
   "execution_count": 64,
   "metadata": {},
   "outputs": [],
   "source": [
    "import requests, json\n",
    "from bs4 import BeautifulSoup\n",
    "from langchain_openai.chat_models.azure import AzureChatOpenAI\n"
   ]
  },
  {
   "cell_type": "code",
   "execution_count": 65,
   "metadata": {},
   "outputs": [],
   "source": [
    "with open('config.json', 'r') as file:\n",
    "    variaveis = json.load(file)\n"
   ]
  },
  {
   "cell_type": "code",
   "execution_count": 66,
   "metadata": {},
   "outputs": [],
   "source": [
    "def extract_text_from_url(url):\n",
    "    response = requests.get(url)\n",
    "\n",
    "    if(response.status_code == 200):\n",
    "        soup = BeautifulSoup(response.text, 'html.parser')\n",
    "        for script_or_style in soup(['script', 'style']):\n",
    "            script_or_style.decompose()\n",
    "        \n",
    "        text = soup.get_text(separator=' ')\n",
    "        linhas = (line.strip() for line in text.splitlines())\n",
    "        texto_limpo = ' '.join(linha for linha in linhas if linha)\n",
    "\n",
    "        return texto_limpo\n",
    "    else:\n",
    "        print(f\"Erro ao acessar pagina Status code{response.status_code}\")\n",
    "        return None\n",
    "\n"
   ]
  },
  {
   "cell_type": "code",
   "execution_count": 67,
   "metadata": {},
   "outputs": [
    {
     "name": "stdout",
     "output_type": "stream",
     "text": [
      "Azure Open AI in VNet - DEV Community Skip to content Navigation menu Search Powered by Search Algolia Search Log in Create account DEV Community Close Add reaction Like Unicorn Exploding Head Raised Hands Fire Jump to Comments Save More... Copy link Copy link Copied to Clipboard Share to Twitter Share to LinkedIn Share to Reddit Share to Hacker News Share to Facebook Share to Mastodon Report Abuse Kenichiro Nakamura Posted on  Oct 12, 2023 Azure Open AI in VNet # azure # openai # security GPT models are hosted in multiple service vendor at the moment, and Microsoft Azure is one of them. Even though the models themselves are the same, there are many differences including: cost functionalities type of models and versions geo location security support etc. One of the most important aspects when we use it in an Enterprise Environment is, of course, security. By using Azure network security features with Azure Open AI, customers can consume the Open AI service from and within the VNet, therefore no information is flowing in public. Sample Deployment Azure Sample repo provides a sample bicep files to deploy Azure Open AI into VNet environment. GitHub: openai-enterprise-iac The key features the bicep uses are: VNet VNet integration for Web App Private Endpoint for Azure Open AI Private Endpoint for Cognitive Search Private DNS Zone By using these features, all the outbound traffic from the Web App only routed inside the VNet and all the names are resolved into private IP addresses. Open AI and Cognitive Search shut down the public IP address, thus there is not public interface endpoint available anymore. Deploy The bicep file will deploy following Azure Resources. Let's deploy and confirm how it works. I create a resource group in East US region for my own test. git clone https://github.com/Azure-Samples/openai-enterprise-iac cd  openai-enterprise-iac az group create  -n  openaitest  -l  eastus az deployment group create  -g  openaitest  -f  . \\i nfra \\m ain.bicep Enter fullscreen mode Exit fullscreen mode Once I run the commend above, I see the deployment started. Wait until the deployment completes. Test Let's see if the deployment was succeeded. Azure Open AI Let's try public access first. I could create a deployment without any issue. But when I try from the Chat playground in my Azure Portal, I see the following error. How about access via the Web API? From an advanced tool of the App Service, I login to Bash session, and first I ping the service URL. I see the private IP address assigned to the Private Endpoint is returend. Then I use curl command to send request to the endpoint. Top comments  (0) Subscribe Personal Trusted User Create template Templates let you quickly answer FAQs or store snippets for re-use. Submit Preview Dismiss Code of Conduct • Report abuse Are you sure you want to hide this comment? It will become hidden in your post, but will still be visible via the comment's  permalink . Hide child comments as well Confirm For further actions, you may consider blocking this person and/or  reporting abuse Read next Replacing complex UX patterns with Next.js and OpenAI o1 Charly Poly -  Oct 17 🚀 Azure DevOps vs GitHub Actions: A Comprehensive Guide with Examples & Performance Metrics ⚙️ Hamza Khan -  Oct 15 Quick tip: Building Predictive Analytics for Loan Approvals Akmal Chaudhri -  Oct 15 AWS Certificate Manager to Shift Trust Anchor, Ending Cross-Signature with Starfield Class 2 Root Harsh Viradia -  Oct 29 Kenichiro Nakamura Follow Joined Feb 3, 2018 More from  Kenichiro Nakamura Azure ML Prompt flow: Use content safety before sending a request to LLM # azure # promptflow # contentsafety Don't waste time to write README, use readme-ai instead # ai # readme # openai C#: Azure Open AI and Function Calling # azure # openai # functioncalling Thank you to our Diamond Sponsor  Neon  for supporting our community. DEV Community  — A constructive and inclusive social network for software developers. With you every step of your journey. Home DEV++ Podcasts Videos Tags DEV Help Forem Shop Advertise on DEV DEV Challenges DEV Showcase About Contact Free Postgres Database Guides Software comparisons Code of Conduct Privacy Policy Terms of use Built on  Forem  — the  open source  software that powers  DEV  and other inclusive communities. Made with love and  Ruby on Rails . DEV Community  ©  2016 - 2024. We're a place where coders share, stay up-to-date and grow their careers. Log in Create account\n"
     ]
    }
   ],
   "source": [
    "url_Text = extract_text_from_url('https://dev.to/kenakamu/azure-open-ai-in-vnet-3alo')\n",
    "print(url_Text)"
   ]
  },
  {
   "cell_type": "code",
   "execution_count": 68,
   "metadata": {},
   "outputs": [],
   "source": [
    "client = AzureChatOpenAI(\n",
    "    azure_endpoint = variaveis['openai_azure_endpoint'],\n",
    "    api_key = variaveis['openai_api_key'],\n",
    "    api_version = variaveis['open_api_version'],\n",
    "    deployment_name = variaveis['open_api_deployment_name'],\n",
    "    max_retries = 0\n",
    ")"
   ]
  },
  {
   "cell_type": "code",
   "execution_count": 69,
   "metadata": {},
   "outputs": [],
   "source": [
    "def translate_url(text, lang):\n",
    "    messages = [\n",
    "        (\"system\", \"Você atua como tradutor de textos\"),\n",
    "        (\"user\", f\"Traduza o {text} para o idioma {lang} e responda em markdown\" )\n",
    "    ]\n",
    "    response = client.invoke(messages)\n",
    "    return response.content\n"
   ]
  },
  {
   "cell_type": "code",
   "execution_count": 70,
   "metadata": {},
   "outputs": [],
   "source": [
    "url_traduzida = (translate_url(url_Text,\"portugues\"))"
   ]
  },
  {
   "cell_type": "code",
   "execution_count": 71,
   "metadata": {},
   "outputs": [
    {
     "name": "stdout",
     "output_type": "stream",
     "text": [
      "# Azure Open AI na VNet\n",
      "\n",
      "## Kenichiro Nakamura\n",
      "Publicado em 12 de outubro de 2023\n",
      "\n",
      "### Azure Open AI na VNet\n",
      "\n",
      "Os modelos GPT estão hospedados em vários fornecedores de serviços no momento, e o Microsoft Azure é um deles. Embora os modelos em si sejam os mesmos, existem muitas diferenças, incluindo: custo, funcionalidades, tipo de modelos e versões, localização geográfica, suporte de segurança etc. Um dos aspectos mais importantes ao usá-lo em um ambiente corporativo é, claro, a segurança. Ao usar os recursos de segurança de rede do Azure com o Azure Open AI, os clientes podem consumir o serviço Open AI de e dentro da VNet, portanto, nenhuma informação está fluindo publicamente.\n",
      "\n",
      "### Exemplo de Implantação\n",
      "\n",
      "O repositório de amostras do Azure fornece arquivos de bicep de exemplo para implantar o Azure Open AI em um ambiente VNet. GitHub: openai-enterprise-iac\n",
      "\n",
      "As principais características utilizadas pelo bicep são:\n",
      "- VNet\n",
      "- Integração VNet para Aplicativo Web\n",
      "- Endpoint Privado para o Azure Open AI\n",
      "- Endpoint Privado para Pesquisa Cognitiva\n",
      "- Zona DNS Privada\n",
      "\n",
      "Usando esses recursos, todo o tráfego de saída do Aplicativo Web é roteado apenas dentro da VNet, e todos os nomes são resolvidos em endereços IP privados. O Open AI e a Pesquisa Cognitiva desativam o endereço IP público, portanto, não há mais um endpoint de interface pública disponível.\n",
      "\n",
      "### Implantação\n",
      "\n",
      "O arquivo bicep implantará os seguintes recursos do Azure. Vamos implantar e confirmar como funciona. Criei um grupo de recursos na região East US para meu próprio teste.\n",
      "\n",
      "```bash\n",
      "git clone https://github.com/Azure-Samples/openai-enterprise-iac\n",
      "cd openai-enterprise-iac\n",
      "az group create -n openaitest -l eastus\n",
      "az deployment group create -g openaitest -f .\\infra\\main.bicep\n",
      "```\n",
      "\n",
      "Uma vez que executei o comando acima, vejo que a implantação começou. Aguarde até que a implantação seja concluída.\n",
      "\n",
      "### Teste\n",
      "\n",
      "Vamos ver se a implantação foi bem-sucedida.\n",
      "\n",
      "#### Azure Open AI\n",
      "\n",
      "Vamos tentar o acesso público primeiro. Eu consegui criar uma implantação sem nenhum problema. Mas quando tentei a partir do Chat playground no meu Portal do Azure, vejo o seguinte erro. E quanto ao acesso via API Web? \n",
      "\n",
      "De uma ferramenta avançada do App Service, eu faço login na sessão Bash e primeiro faço um ping na URL do serviço. Vejo que o endereço IP privado atribuído ao Endpoint Privado é retornado. Em seguida, uso o comando curl para enviar uma solicitação ao endpoint.\n",
      "\n",
      "---\n",
      "\n",
      "### Comentários Principais\n",
      "\n",
      "(0) Assinar\n",
      "\n",
      "---\n",
      "\n",
      "### Próximos Passos\n",
      "\n",
      "- **Substituindo padrões complexos de UX com Next.js e OpenAI** - Charly Poly - 17 de outubro\n",
      "- **Azure DevOps vs GitHub Actions: Um Guia Abrangente com Exemplos e Métricas de Performance** - Hamza Khan - 15 de outubro\n",
      "- **Dica Rápida: Construindo Análises Preditivas para Aprovações de Empréstimos** - Akmal Chaudhri - 15 de outubro\n",
      "- **AWS Certificate Manager para Mudar o Âncora de Confiança, Encerrando a Assinatura Cruzada com o Root Class 2 da Starfield** - Harsh Viradia - 29 de outubro\n",
      "\n",
      "---\n",
      "\n",
      "Kenichiro Nakamura\n",
      "Seguir\n",
      "Ingressou em 3 de fevereiro de 2018\n",
      "\n",
      "### Mais de Kenichiro Nakamura\n",
      "\n",
      "- **Azure ML Prompt flow: Use segurança de conteúdo antes de enviar uma solicitação ao LLM**\n",
      "- **Não perca tempo escrevendo README, use readme-ai em vez disso**\n",
      "- **C#: Azure Open AI e Chamada de Função**\n",
      "\n",
      "Agradecimentos ao nosso patrocinador Diamond Neon pelo apoio à nossa comunidade.\n",
      "\n",
      "---\n",
      "\n",
      "**DEV Community** — Uma rede social construtiva e inclusiva para desenvolvedores de software. Com você em cada passo da sua jornada. \n",
      "\n",
      "**Início** | **DEV++** | **Podcasts** | **Vídeos** | **Tags** | **DEV Help** | **Forem** | **Loja** | **Anuncie no DEV** | **Desafios DEV** | **Exibição DEV** | **Sobre** | **Contato** | **Guia de Banco de Dados Postgres Gratuito** | **Comparações de Software** | **Código de Conduta** | **Política de Privacidade** | **Termos de Uso**\n",
      "\n",
      "Construído com **Forem** — o software de código aberto que alimenta o DEV e outras comunidades inclusivas. Feito com amor e Ruby on Rails.\n",
      "\n",
      "**DEV Community © 2016 - 2024.** Somos um lugar onde os programadores compartilham, ficam atualizados e crescem em suas carreiras.\n"
     ]
    }
   ],
   "source": [
    "print(url_traduzida)"
   ]
  },
  {
   "cell_type": "code",
   "execution_count": null,
   "metadata": {},
   "outputs": [],
   "source": []
  },
  {
   "cell_type": "code",
   "execution_count": null,
   "metadata": {},
   "outputs": [],
   "source": []
  },
  {
   "cell_type": "code",
   "execution_count": null,
   "metadata": {},
   "outputs": [],
   "source": []
  },
  {
   "cell_type": "code",
   "execution_count": 3,
   "metadata": {},
   "outputs": [],
   "source": [
    "# Add your key and endpoint\n",
    "key = variaveis['key']\n",
    "endpoint = \"https://api.cognitive.microsofttranslator.com\"\n",
    "\n",
    "location = variaveis['location']\n",
    "\n",
    "language_destination = 'pt-br'\n"
   ]
  },
  {
   "cell_type": "code",
   "execution_count": 4,
   "metadata": {},
   "outputs": [],
   "source": [
    "def translator_text(text, target_language):\n",
    "    path = '/translate'\n",
    "    constructed_url = endpoint + path\n",
    "\n",
    "    headers = {\n",
    "        'Ocp-Apim-Subscription-Key': key,\n",
    "        'Ocp-Apim-Subscription-Region': location,\n",
    "        'Content-type': 'application/json',\n",
    "        'X-ClientTraceId': str(uuid.uuid4())\n",
    "    }\n",
    "\n",
    "    body = [{\n",
    "        'text': text\n",
    "    }]\n",
    "\n",
    "    params = {\n",
    "    'api-version': '3.0',\n",
    "    'from': 'en',\n",
    "    'to': target_language\n",
    "    }\n",
    "\n",
    "    request = requests.post(constructed_url, params=params, headers=headers, json=body)\n",
    "    response = request.json()\n",
    "\n",
    "    return response[0]['translations'][0][\"text\"]\n",
    "\n"
   ]
  },
  {
   "cell_type": "code",
   "execution_count": 5,
   "metadata": {},
   "outputs": [],
   "source": [
    "def translator_document(path):\n",
    "    document = Document(path)\n",
    "    full_text = []\n",
    "    for paragraph in document.paragraphs:\n",
    "        full_text.append(translator_text(paragraph.text, language_destination))\n",
    "    \n",
    "    translated_doc = Document()\n",
    "    for line in full_text:\n",
    "        translated_doc.add_paragraph(line)\n",
    "\n",
    "    path_translated = path.replace(\".docx\", f\"_{language_destination}.docx\")\n",
    "    translated_doc.save(path_translated)\n",
    "\n",
    "    return path_translated"
   ]
  },
  {
   "cell_type": "code",
   "execution_count": 6,
   "metadata": {},
   "outputs": [
    {
     "name": "stdout",
     "output_type": "stream",
     "text": [
      "Olá, tudo bem\n"
     ]
    }
   ],
   "source": [
    "translation = translator_text(\"hello, how are you\", language_destination)\n",
    "print(translation)"
   ]
  },
  {
   "cell_type": "code",
   "execution_count": 7,
   "metadata": {},
   "outputs": [
    {
     "name": "stdout",
     "output_type": "stream",
     "text": [
      "traduzir_pt-br.docx\n"
     ]
    }
   ],
   "source": [
    "path_translated = translator_document(\"traduzir.docx\")\n",
    "print(path_translated)"
   ]
  },
  {
   "cell_type": "code",
   "execution_count": null,
   "metadata": {},
   "outputs": [],
   "source": []
  },
  {
   "cell_type": "code",
   "execution_count": null,
   "metadata": {},
   "outputs": [],
   "source": []
  }
 ],
 "metadata": {
  "kernelspec": {
   "display_name": "Python 3",
   "language": "python",
   "name": "python3"
  },
  "language_info": {
   "codemirror_mode": {
    "name": "ipython",
    "version": 3
   },
   "file_extension": ".py",
   "mimetype": "text/x-python",
   "name": "python",
   "nbconvert_exporter": "python",
   "pygments_lexer": "ipython3",
   "version": "3.10.11"
  }
 },
 "nbformat": 4,
 "nbformat_minor": 2
}
